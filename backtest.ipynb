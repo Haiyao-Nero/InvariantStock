{
 "cells": [
  {
   "cell_type": "code",
   "execution_count": 9,
   "metadata": {
    "ExecuteTime": {
     "end_time": "2024-01-11T22:31:52.229229Z",
     "start_time": "2024-01-11T22:31:51.127433Z"
    }
   },
   "outputs": [],
   "source": [
    "import torch\n",
    "import torch.nn as nn\n",
    "import torch.nn.functional as F\n",
    "import torch.optim as optim\n",
    "from torch.utils.data import DataLoader, Dataset, TensorDataset\n",
    "import pandas as pd\n",
    "import numpy as np\n",
    "import matplotlib.pyplot as plt\n",
    "import seaborn as sns\n",
    "import os\n",
    "import sys\n",
    "import time\n",
    "import datetime\n",
    "import random\n",
    "from tqdm.auto import tqdm\n",
    "# !pip install pyqlib\n",
    "from Layers import FeatureExtractor, FactorEncoder, AlphaLayer, BetaLayer, FactorDecoder, FactorVAE, FatorPrior, FeatureMask\n",
    "from dataset import StockDataset\n",
    "from tqdm.auto import tqdm\n",
    "from dataclasses import dataclass\n",
    "from utils import test_args, load_model, generate_prediction_scores, single_pred\n",
    "from  scipy.stats import spearmanr"
   ]
  },
  {
   "cell_type": "code",
   "execution_count": 10,
   "metadata": {
    "ExecuteTime": {
     "end_time": "2024-01-11T22:31:52.349612Z",
     "start_time": "2024-01-11T22:31:52.230371Z"
    }
   },
   "outputs": [
    {
     "data": {
      "text/plain": [
       "<All keys matched successfully>"
      ]
     },
     "execution_count": 10,
     "metadata": {},
     "output_type": "execute_result"
    }
   ],
   "source": [
    "\n",
    "args = test_args(run_name='None',\n",
    "                num_factor=10, \n",
    "                normalize=True, \n",
    "                select_feature=False,\n",
    "                hidden_size=20,\n",
    "                num_latent=6,\n",
    "                use_qlib=False)\n",
    "factorVAE = load_model(args)\n",
    "featureExtractor = FeatureExtractor(num_latent = args.num_latent, hidden_size =args.hidden_size)\n",
    "featureMask = FeatureMask(num_latent=args.num_latent, hidden_size=args.num_latent)\n",
    "# featureExtractor_model = \"./best_models/factorExtractor_None_8_norm_True_char_False.pt\"\n",
    "featureMask_model = 'best_models/10/best_feat_mask_RationalStock_yearmonthenv_10.pt'\n",
    "factorVAE_model = \"best_models/10/best_factorVAE_RationalStock_yearmonthenv_10.pt\"\n",
    "factorVAE.load_state_dict(torch.load(factorVAE_model))\n",
    "featureMask.load_state_dict(torch.load(featureMask_model))\n",
    "# featureExtractor.load_state_dict(torch.load(featureExtractor_model))"
   ]
  },
  {
   "cell_type": "code",
   "execution_count": 11,
   "metadata": {
    "ExecuteTime": {
     "end_time": "2024-01-11T22:34:26.670677Z",
     "start_time": "2024-01-11T22:34:26.665901Z"
    }
   },
   "outputs": [],
   "source": [
    "# index_columns = ['sh000001open', 'sh000001high', 'sh000001low', 'sh000001close',\n",
    "#        'sh000001volume', 'sh000001next_open', 'sh000698open', 'sh000698high',\n",
    "#        'sh000698low', 'sh000698close', 'sh000698volume', 'sh000698next_open',\n",
    "#        'sz399001open', 'sz399001high', 'sz399001low', 'sz399001close',\n",
    "#        'sz399001volume', 'sz399001next_open', 'sz399006open', 'sz399006high',\n",
    "#        'sz399006low', 'sz399006close', 'sz399006volume', 'sz399006next_open']+[]"
   ]
  },
  {
   "cell_type": "code",
   "execution_count": 12,
   "metadata": {
    "ExecuteTime": {
     "end_time": "2024-01-11T22:31:52.359935Z",
     "start_time": "2024-01-11T22:31:52.353625Z"
    }
   },
   "outputs": [],
   "source": [
    "month = [\"Jan\",\"Feb\",\"Mar\",\"Apr\",\"May\",\"Jun\",\"Jul\",\"Aug\",\"Sep\",\"Oct\",\"Nov\",\"Dec\",]\n",
    "year = [str(i) for i in range(1990,2025)]"
   ]
  },
  {
   "cell_type": "code",
   "execution_count": 13,
   "metadata": {
    "ExecuteTime": {
     "end_time": "2024-01-11T22:31:52.364707Z",
     "start_time": "2024-01-11T22:31:52.360509Z"
    }
   },
   "outputs": [],
   "source": [
    "index_columns =  month+ year"
   ]
  },
  {
   "cell_type": "code",
   "execution_count": 14,
   "metadata": {
    "ExecuteTime": {
     "end_time": "2024-01-11T22:34:49.539910Z",
     "start_time": "2024-01-11T22:34:49.533644Z"
    }
   },
   "outputs": [],
   "source": [
    "# index_columns = year+month"
   ]
  },
  {
   "cell_type": "code",
   "execution_count": 15,
   "metadata": {
    "ExecuteTime": {
     "end_time": "2024-01-11T22:31:54.340425Z",
     "start_time": "2024-01-11T22:31:52.369757Z"
    }
   },
   "outputs": [],
   "source": [
    "test_index = np.load(\"./data/test_index.npy\")"
   ]
  },
  {
   "cell_type": "code",
   "execution_count": null,
   "metadata": {},
   "outputs": [],
   "source": []
  },
  {
   "cell_type": "code",
   "execution_count": 16,
   "metadata": {
    "ExecuteTime": {
     "end_time": "2023-11-06T23:16:13.960168Z",
     "start_time": "2023-11-06T23:16:13.957068Z"
    }
   },
   "outputs": [
    {
     "ename": "NameError",
     "evalue": "name 'test_df' is not defined",
     "output_type": "error",
     "traceback": [
      "\u001b[0;31m---------------------------------------------------------------------------\u001b[0m",
      "\u001b[0;31mNameError\u001b[0m                                 Traceback (most recent call last)",
      "Cell \u001b[0;32mIn[16], line 1\u001b[0m\n\u001b[0;32m----> 1\u001b[0m \u001b[43mtest_df\u001b[49m\n",
      "\u001b[0;31mNameError\u001b[0m: name 'test_df' is not defined"
     ]
    }
   ],
   "source": []
  },
  {
   "cell_type": "code",
   "execution_count": null,
   "metadata": {
    "ExecuteTime": {
     "end_time": "2024-01-11T22:31:54.343539Z",
     "start_time": "2024-01-11T22:31:54.341331Z"
    }
   },
   "outputs": [],
   "source": [
    "args.seq_length"
   ]
  },
  {
   "cell_type": "code",
   "execution_count": null,
   "metadata": {},
   "outputs": [],
   "source": [
    "# test_df"
   ]
  },
  {
   "cell_type": "code",
   "execution_count": null,
   "metadata": {},
   "outputs": [],
   "source": [
    "# test_df.drop(columns=index_columns,inplace=True)"
   ]
  },
  {
   "cell_type": "code",
   "execution_count": null,
   "metadata": {
    "ExecuteTime": {
     "end_time": "2024-01-11T22:35:14.253599Z",
     "start_time": "2024-01-11T22:35:13.297624Z"
    }
   },
   "outputs": [],
   "source": [
    "test_df = pd.read_pickle(f\"./data/test_all.pkl\")\n",
    "# test_df = test_df[test_df.columns[:39]]\n",
    "test_df.drop(columns=index_columns,inplace=True)\n",
    "test_ds = StockDataset(test_df, test_index,args.batch_size, args.seq_length)\n",
    "test_dataloader = DataLoader(test_ds, batch_size=4000, shuffle=False) "
   ]
  },
  {
   "cell_type": "code",
   "execution_count": null,
   "metadata": {
    "ExecuteTime": {
     "end_time": "2024-01-11T22:35:04.873341Z",
     "start_time": "2024-01-11T22:35:04.676081Z"
    }
   },
   "outputs": [],
   "source": []
  },
  {
   "cell_type": "code",
   "execution_count": null,
   "metadata": {
    "ExecuteTime": {
     "end_time": "2024-01-11T22:35:23.793804Z",
     "start_time": "2024-01-11T22:35:23.788745Z"
    }
   },
   "outputs": [],
   "source": [
    "# test_df.set_index([\"datetime\",\"instrument\"],inplace=True)\n",
    "# test_df.sort_index(inplace=True)"
   ]
  },
  {
   "cell_type": "code",
   "execution_count": null,
   "metadata": {
    "ExecuteTime": {
     "end_time": "2024-01-11T22:35:41.932392Z",
     "start_time": "2024-01-11T22:35:23.798281Z"
    }
   },
   "outputs": [],
   "source": [
    "output = generate_prediction_scores(featureMask,factorVAE, test_dataloader, test_df, args)\n",
    "#output.to_csv(f\"./scores/{args.run_name}_{args.num_factor}_{args.normalize}_{args.select_feature}_{args.num_latent}_{args.hidden_size}.csv\")"
   ]
  },
  {
   "cell_type": "code",
   "execution_count": null,
   "metadata": {
    "ExecuteTime": {
     "end_time": "2024-01-11T22:35:41.963477Z",
     "start_time": "2024-01-11T22:35:41.933585Z"
    }
   },
   "outputs": [],
   "source": [
    "# masks.index = \n",
    "output.index = test_df.index[test_index[:,-1]]"
   ]
  },
  {
   "cell_type": "code",
   "execution_count": null,
   "metadata": {
    "ExecuteTime": {
     "end_time": "2024-01-11T22:35:41.968587Z",
     "start_time": "2024-01-11T22:35:41.964847Z"
    }
   },
   "outputs": [],
   "source": [
    "output.index"
   ]
  },
  {
   "cell_type": "code",
   "execution_count": null,
   "metadata": {
    "ExecuteTime": {
     "end_time": "2024-01-11T22:35:41.976618Z",
     "start_time": "2024-01-11T22:35:41.969638Z"
    }
   },
   "outputs": [],
   "source": [
    "output\n"
   ]
  },
  {
   "cell_type": "code",
   "execution_count": null,
   "metadata": {
    "ExecuteTime": {
     "end_time": "2024-01-11T22:35:41.979452Z",
     "start_time": "2024-01-11T22:35:41.977918Z"
    }
   },
   "outputs": [],
   "source": [
    "# codes = output.index.codes\n",
    "# new_levels = [pd.to_datetime(output.index.levels[0].astype(str),),output.index.levels[1]]\n",
    "# new_index = pd.MultiIndex(levels=new_levels, codes=codes, names=output.index.names)\n",
    "# output.index = new_index"
   ]
  },
  {
   "cell_type": "code",
   "execution_count": null,
   "metadata": {},
   "outputs": [],
   "source": []
  },
  {
   "cell_type": "code",
   "execution_count": null,
   "metadata": {
    "ExecuteTime": {
     "end_time": "2024-01-11T22:36:12.543593Z",
     "start_time": "2024-01-11T22:35:41.980544Z"
    }
   },
   "outputs": [],
   "source": [
    "df_all = pd.read_pickle(\"./data/simpleusdataset.pkl\")\n",
    "# df_all.datetime = pd.to_datetime(df_all.datetime.astype(str))\n",
    "# df_all.set_index([\"datetime\",\"instrument\"],inplace=True)\n",
    "# df_all.sort_index(inplace=True)"
   ]
  },
  {
   "cell_type": "code",
   "execution_count": null,
   "metadata": {},
   "outputs": [],
   "source": [
    "test_df"
   ]
  },
  {
   "cell_type": "code",
   "execution_count": null,
   "metadata": {},
   "outputs": [],
   "source": [
    "test_df"
   ]
  },
  {
   "cell_type": "code",
   "execution_count": null,
   "metadata": {
    "ExecuteTime": {
     "end_time": "2024-01-11T22:36:27.304982Z",
     "start_time": "2024-01-11T22:36:12.544763Z"
    }
   },
   "outputs": [],
   "source": [
    "\n",
    "a = pd.merge(test_df[[\"LABEL0\"]],output,left_index=True,right_index=True)\n",
    "# a = pd.merge(df_all,a,left_index=True,right_index=True)\n",
    "# label_norm = pd.read_csv(\"../data/label_norm.csv\")\n",
    "# label_norm.datetime = pd.to_datetime(label_norm.datetime.astype(str))\n",
    "# label_norm.set_index([\"datetime\",\"instrument\"],inplace=True)\n",
    "# label_norm.sort_index(inplace=True)\n",
    "# total = pd.merge(a, label_norm, left_index=True, right_index=True)\n",
    "# total.rename(columns={\"LABEL0_x\":\"LABEL0\"},inplace=True)\n",
    "# total.rename(columns={\"LABEL0_y\":\"next_close\"},inplace=True)\n",
    "# total.rename(columns={\"close_x\":\"close\"},inplace=True)\n",
    "# total[\"tradable\"] = True\n",
    "# total[\"tradable\"] = ~ ((total[\"open\"] == total[\"high\"]) &  (total[\"open\"] == total[\"low\"]) & (total[\"open\"] == total[\"close\"]))"
   ]
  },
  {
   "cell_type": "code",
   "execution_count": null,
   "metadata": {
    "ExecuteTime": {
     "end_time": "2024-01-11T22:36:27.410868Z",
     "start_time": "2024-01-11T22:36:27.306092Z"
    }
   },
   "outputs": [],
   "source": [
    "# total[\"tradable\"] = total[\"tradable\"].groupby(\"instrument\").shift(-1)"
   ]
  },
  {
   "cell_type": "code",
   "execution_count": null,
   "metadata": {
    "ExecuteTime": {
     "end_time": "2024-01-11T22:36:27.637524Z",
     "start_time": "2024-01-11T22:36:27.411668Z"
    }
   },
   "outputs": [],
   "source": [
    "# total.dropna(inplace=True)"
   ]
  },
  {
   "cell_type": "code",
   "execution_count": null,
   "metadata": {
    "ExecuteTime": {
     "end_time": "2024-01-11T22:36:27.640220Z",
     "start_time": "2024-01-11T22:36:27.638816Z"
    }
   },
   "outputs": [],
   "source": [
    "a[[\"LABEL0\",\"score\"]].to_pickle(\"rs_us.pkl\")"
   ]
  },
  {
   "cell_type": "code",
   "execution_count": null,
   "metadata": {},
   "outputs": [],
   "source": [
    "total = a"
   ]
  },
  {
   "cell_type": "code",
   "execution_count": null,
   "metadata": {
    "ExecuteTime": {
     "end_time": "2024-01-11T22:36:27.651886Z",
     "start_time": "2024-01-11T22:36:27.640780Z"
    }
   },
   "outputs": [],
   "source": [
    "total[\"tradable\"] = True"
   ]
  },
  {
   "cell_type": "code",
   "execution_count": null,
   "metadata": {},
   "outputs": [],
   "source": [
    "total.rename(columns={\"LABEL0\":\"label\",\"score\":\"pred\"},inplace=True)"
   ]
  },
  {
   "cell_type": "code",
   "execution_count": null,
   "metadata": {
    "ExecuteTime": {
     "end_time": "2024-01-11T22:36:27.656730Z",
     "start_time": "2024-01-11T22:36:27.652438Z"
    }
   },
   "outputs": [],
   "source": [
    "def calculate_rank_ic(df):\n",
    "    # Rank transformation\n",
    "    ranked_preds = df.score.rank(axis=0)\n",
    "    ranked_actuals = df.LABEL0.rank(axis=0)\n",
    "\n",
    "    # Standardize\n",
    "    standardized_preds = (ranked_preds - ranked_preds.mean()) / ranked_preds.std()\n",
    "    standardized_actuals = (ranked_actuals - ranked_actuals.mean()) / ranked_actuals.std()\n",
    "\n",
    "    # Calculate individual Rank ICs\n",
    "    individual_rank_ics = standardized_preds * standardized_actuals\n",
    "\n",
    "    # Average over time periods\n",
    "    rank = pd.concat([ranked_preds,ranked_actuals,individual_rank_ics],axis=1).sort_values(\"score\")\n",
    "    return individual_rank_ics,rank"
   ]
  },
  {
   "cell_type": "code",
   "execution_count": null,
   "metadata": {},
   "outputs": [],
   "source": []
  },
  {
   "cell_type": "code",
   "execution_count": null,
   "metadata": {
    "ExecuteTime": {
     "end_time": "2024-01-11T22:38:06.295255Z",
     "start_time": "2024-01-11T22:37:46.448896Z"
    }
   },
   "outputs": [],
   "source": [
    "def back_test(all,number):\n",
    "    asset = 1\n",
    "    history = [1]\n",
    "    new_potofolio_short = potofolio_short = new_potofolio = potofolio =  new_optimal_potofolio = optimal_potofolio = []\n",
    "    df_trade_list = []\n",
    "    profit_list = []\n",
    "    # all[\"tradable\"] = True\n",
    "\n",
    "    for date, df in all.groupby(\"datetime\"):\n",
    "        trade_df =  df.loc[df.tradable].sort_values(by=\"pred\",ascending=False).head(number)\n",
    "        new_potofolio = trade_df.index.get_level_values(\"instrument\")\n",
    "        if len(potofolio)==0:\n",
    "            fee = 0\n",
    "        else:\n",
    "            fee = len(set(new_potofolio) - set(potofolio))/len(potofolio) * 0.0015\n",
    "        profit = trade_df[\"label\"].mean()\n",
    "        # profit_list.append()\n",
    "        # fee = 0   \n",
    "\n",
    "        long_asset =0.5 *asset* (1+profit-fee)\n",
    "        potofolio = new_potofolio\n",
    "        \n",
    "\n",
    "        trade_df_short =  df.loc[df.tradable].sort_values(by=\"pred\",ascending=True).head(number)\n",
    "        new_potofolio_short = trade_df_short.index.get_level_values(\"instrument\")\n",
    "        if len(potofolio_short)==0:\n",
    "            fee_short = 0\n",
    "        else:\n",
    "            fee_short = len(set(new_potofolio_short) - set(potofolio_short))/len(potofolio_short) * 0.0015\n",
    "        profit_short = -trade_df_short[\"label\"].mean()\n",
    "        profit_list.append((profit-fee+profit_short-fee_short)/2)\n",
    "        # fee = 0   \n",
    "        \n",
    "        short_asset =0.5*asset*(1+profit_short-fee_short)\n",
    "        potofolio_short = new_potofolio_short\n",
    "        asset = long_asset + short_asset\n",
    "        df_trade_list.append(pd.concat([trade_df,trade_df_short]))\n",
    "        history.append(asset)\n",
    "\n",
    "    df_history = pd.DataFrame(history[1:],index=all.index.get_level_values(\"datetime\").unique())\n",
    "    df_history.rename(columns={0:\"Cumulative_Returns\"},inplace=True)\n",
    "    df_history['Drawdown'] = df_history['Cumulative_Returns'].div(df_history['Cumulative_Returns'].cummax()) - 1\n",
    "    df_history[\"return_rate\"] = profit_list\n",
    "    df_history['Drawdown'].min()\n",
    "\n",
    "    return df_history"
   ]
  },
  {
   "cell_type": "code",
   "execution_count": null,
   "metadata": {},
   "outputs": [],
   "source": [
    "hist = back_test(total,30)\n",
    "hist"
   ]
  },
  {
   "cell_type": "code",
   "execution_count": null,
   "metadata": {},
   "outputs": [],
   "source": [
    "plt.plot(hist[\"Cumulative_Returns\"])\n",
    "plt.xticks(rotation=45)"
   ]
  },
  {
   "cell_type": "code",
   "execution_count": null,
   "metadata": {},
   "outputs": [],
   "source": [
    "def rankic(df):\n",
    "    ic = df.groupby('datetime').apply(lambda df: df[\"label\"].corr(df[\"pred\"]))\n",
    "    ric = df.groupby('datetime').apply(lambda df: df[\"label\"].corr(df[\"pred\"], method=\"spearman\"))\n",
    "    \n",
    "    print({\n",
    "            \"IC\": ic.mean(),\n",
    "            \"ICIR\": ic.mean() / ic.std(),\n",
    "            \"Rank IC\": ric.mean(),\n",
    "            \"Rank ICIR\": ric.mean() / ric.std(),\n",
    "        })\n",
    "    return ric"
   ]
  },
  {
   "cell_type": "code",
   "execution_count": null,
   "metadata": {},
   "outputs": [],
   "source": [
    "rankic(total)"
   ]
  },
  {
   "cell_type": "code",
   "execution_count": null,
   "metadata": {
    "ExecuteTime": {
     "end_time": "2024-01-11T22:38:11.853370Z",
     "start_time": "2024-01-11T22:38:11.826562Z"
    }
   },
   "outputs": [],
   "source": []
  },
  {
   "cell_type": "code",
   "execution_count": null,
   "metadata": {
    "ExecuteTime": {
     "end_time": "2024-01-11T22:38:12.847424Z",
     "start_time": "2024-01-11T22:38:12.831801Z"
    }
   },
   "outputs": [],
   "source": [
    "df_trade[\"LABEL0\"].groupby(\"datetime\").mean().sort_values(ascending=False).index[:20]"
   ]
  },
  {
   "cell_type": "code",
   "execution_count": null,
   "metadata": {
    "ExecuteTime": {
     "end_time": "2024-01-11T22:38:16.368950Z",
     "start_time": "2024-01-11T22:38:16.346798Z"
    }
   },
   "outputs": [],
   "source": [
    "rankics = total.groupby(\"datetime\")[\"rankic\"].mean()\n",
    "rankics.mean()"
   ]
  },
  {
   "cell_type": "code",
   "execution_count": null,
   "metadata": {
    "ExecuteTime": {
     "end_time": "2024-01-11T22:38:17.663926Z",
     "start_time": "2024-01-11T22:38:17.653893Z"
    }
   },
   "outputs": [],
   "source": [
    "ranicir = rankics.mean()/rankics.std()\n",
    "ranicir"
   ]
  },
  {
   "cell_type": "code",
   "execution_count": null,
   "metadata": {},
   "outputs": [],
   "source": []
  },
  {
   "cell_type": "code",
   "execution_count": null,
   "metadata": {},
   "outputs": [],
   "source": []
  },
  {
   "cell_type": "code",
   "execution_count": null,
   "metadata": {},
   "outputs": [],
   "source": []
  },
  {
   "cell_type": "code",
   "execution_count": null,
   "metadata": {},
   "outputs": [],
   "source": []
  },
  {
   "cell_type": "code",
   "execution_count": null,
   "metadata": {
    "ExecuteTime": {
     "end_time": "2024-01-11T22:38:21.414892Z",
     "start_time": "2024-01-11T22:38:20.390503Z"
    }
   },
   "outputs": [],
   "source": [
    "ic = total.groupby('datetime').apply(lambda df: df[\"LABEL0\"].corr(df[\"score\"]))\n",
    "ric = total.groupby('datetime').apply(lambda df: df[\"LABEL0\"].corr(df[\"score\"], method=\"spearman\"))"
   ]
  },
  {
   "cell_type": "code",
   "execution_count": null,
   "metadata": {
    "ExecuteTime": {
     "end_time": "2024-01-11T22:38:29.238552Z",
     "start_time": "2024-01-11T22:38:29.228051Z"
    }
   },
   "outputs": [],
   "source": [
    "{\n",
    "            \"IC\": ic.mean(),\n",
    "            \"ICIR\": ic.mean() / ic.std(),\n",
    "            \"Rank IC\": ric.mean(),\n",
    "            \"Rank ICIR\": ric.mean() / ric.std(),\n",
    "        }"
   ]
  },
  {
   "cell_type": "code",
   "execution_count": null,
   "metadata": {},
   "outputs": [],
   "source": []
  },
  {
   "cell_type": "code",
   "execution_count": null,
   "metadata": {
    "ExecuteTime": {
     "end_time": "2024-01-11T22:38:43.753306Z",
     "start_time": "2024-01-11T22:38:43.738762Z"
    }
   },
   "outputs": [],
   "source": [
    "history"
   ]
  },
  {
   "cell_type": "code",
   "execution_count": null,
   "metadata": {},
   "outputs": [],
   "source": []
  },
  {
   "cell_type": "code",
   "execution_count": null,
   "metadata": {},
   "outputs": [],
   "source": []
  },
  {
   "cell_type": "code",
   "execution_count": null,
   "metadata": {
    "ExecuteTime": {
     "end_time": "2024-01-11T22:38:48.559299Z",
     "start_time": "2024-01-11T22:38:48.553339Z"
    }
   },
   "outputs": [],
   "source": [
    "# df.sort_values(by=\"change_est\",ascending=False).head(10)"
   ]
  },
  {
   "cell_type": "code",
   "execution_count": null,
   "metadata": {
    "ExecuteTime": {
     "end_time": "2024-01-11T22:38:48.787171Z",
     "start_time": "2024-01-11T22:38:48.777521Z"
    }
   },
   "outputs": [],
   "source": [
    "set(potofolio) - set(new_potofolio)"
   ]
  },
  {
   "cell_type": "code",
   "execution_count": null,
   "metadata": {
    "ExecuteTime": {
     "end_time": "2024-01-11T22:38:49.716257Z",
     "start_time": "2024-01-11T22:38:49.013626Z"
    }
   },
   "outputs": [],
   "source": [
    "import akshare as ak\n",
    "stock_zh_index_daily_df = ak.stock_zh_index_daily(symbol=\"sh000001\")\n",
    "stock_zh_index_daily_df.date = pd.to_datetime(stock_zh_index_daily_df.date)\n",
    "stock_zh_index_daily_df.set_index(\"date\",inplace=True)\n",
    "print(stock_zh_index_daily_df)"
   ]
  },
  {
   "cell_type": "code",
   "execution_count": null,
   "metadata": {
    "ExecuteTime": {
     "end_time": "2024-01-11T22:38:49.743470Z",
     "start_time": "2024-01-11T22:38:49.743465Z"
    }
   },
   "outputs": [],
   "source": [
    "from pprint import pprint\n",
    "from qlib.utils.time import Freq\n",
    "from qlib.contrib.evaluate import risk_analysis\n",
    "FREQ = \"day\"\n",
    "analysis_freq = \"{0}{1}\".format(*Freq.parse(FREQ))"
   ]
  },
  {
   "cell_type": "code",
   "execution_count": null,
   "metadata": {
    "ExecuteTime": {
     "end_time": "2024-01-11T22:38:50.482217Z",
     "start_time": "2024-01-11T22:38:50.476290Z"
    }
   },
   "outputs": [],
   "source": [
    "\n",
    "# analysis = dict()\n",
    "# analysis[\"excess_return_without_cost\"] = risk_analysis(\n",
    "#     analysis_report[\"return\"] - analysis_report[\"bench\"], freq=analysis_freq\n",
    "# )\n",
    "# analysis[\"excess_return_with_cost\"] = risk_analysis(\n",
    "#     analysis_report[\"return\"] - analysis_report[\"bench\"] - analysis_report[\"cost\"], freq=analysis_freq\n",
    "# )\n",
    "\n",
    "# analysis_df = pd.concat(analysis)\n",
    "# pprint(analysis_df)"
   ]
  },
  {
   "cell_type": "code",
   "execution_count": null,
   "metadata": {
    "ExecuteTime": {
     "end_time": "2024-01-11T22:38:51.480883Z",
     "start_time": "2024-01-11T22:38:51.008619Z"
    }
   },
   "outputs": [],
   "source": [
    "potofolio\n",
    "## Get Bench\n",
    "import akshare as ak\n",
    "stock_zh_index_daily_df = ak.stock_zh_index_daily(symbol=\"sh000001\")\n",
    "stock_zh_index_daily_df.date = pd.to_datetime(stock_zh_index_daily_df.date)\n",
    "stock_zh_index_daily_df.set_index(\"date\",inplace=True)\n",
    "print(stock_zh_index_daily_df)"
   ]
  },
  {
   "cell_type": "code",
   "execution_count": null,
   "metadata": {},
   "outputs": [],
   "source": []
  },
  {
   "cell_type": "code",
   "execution_count": null,
   "metadata": {
    "ExecuteTime": {
     "end_time": "2024-01-11T22:38:51.508142Z",
     "start_time": "2024-01-11T22:38:51.508137Z"
    }
   },
   "outputs": [],
   "source": [
    "bench = ((stock_zh_index_daily_df.close.shift(1)-stock_zh_index_daily_df.close)/stock_zh_index_daily_df.close)\n",
    "bench = stock_zh_index_daily_df[[\"close\"]]\n",
    "analysis_report = pd.merge(analysis_report,bench,left_index=True,right_index=True)\n",
    "\n",
    "analysis_report.rename(columns={\"close\":\"sz_rate\"},inplace=True)\n",
    "\n",
    "\n",
    "analysis_report[\"sz_return\"] = analysis_report.sz_rate/analysis_report.sz_rate.iloc[0]\n",
    "df_trade.drop(columns=[\"LABEL0\",\"score\",],inplace=True)\n",
    "analysis_report"
   ]
  },
  {
   "cell_type": "code",
   "execution_count": null,
   "metadata": {
    "ExecuteTime": {
     "end_time": "2024-01-11T22:38:51.615661Z",
     "start_time": "2024-01-11T22:38:51.605977Z"
    }
   },
   "outputs": [],
   "source": [
    "analysis_report.index"
   ]
  },
  {
   "cell_type": "code",
   "execution_count": null,
   "metadata": {
    "ExecuteTime": {
     "end_time": "2024-01-11T22:38:51.815532Z",
     "start_time": "2024-01-11T22:38:51.809410Z"
    }
   },
   "outputs": [],
   "source": [
    "analysis_report.index.names = [\"datetime\"]"
   ]
  },
  {
   "cell_type": "code",
   "execution_count": null,
   "metadata": {
    "ExecuteTime": {
     "end_time": "2024-01-11T22:38:52.453801Z",
     "start_time": "2024-01-11T22:38:52.324062Z"
    }
   },
   "outputs": [],
   "source": [
    "## MaxDrawdown\n",
    "df_history = pd.DataFrame(history[1:],index=total.index.get_level_values(\"datetime\").unique())\n",
    "df_history.rename(columns={0:\"Cumulative_Returns\"},inplace=True)\n",
    "df_history['Drawdown'] = df_history['Cumulative_Returns'].div(df_history['Cumulative_Returns'].cummax()) - 1\n",
    "df_history['Drawdown'].min()\n",
    "\n",
    "plt.plot(df_history.index, df_history['Drawdown'], label='Drawdown', color='red')\n",
    "plt.fill_between(df_history.index, df_history['Drawdown'], alpha=0.3, color='red')\n",
    "plt.title('Drawdown Over Time')\n",
    "plt.xlabel('Date')\n",
    "plt.ylabel('Drawdown')\n",
    "plt.grid(True)\n",
    "plt.legend()\n",
    "plt.show()"
   ]
  },
  {
   "cell_type": "code",
   "execution_count": null,
   "metadata": {
    "ExecuteTime": {
     "end_time": "2024-01-11T22:38:53.972614Z",
     "start_time": "2024-01-11T22:38:53.963168Z"
    }
   },
   "outputs": [],
   "source": [
    "## Annualized return\n",
    "year = len(history)/252\n",
    "annualized_return = history[-1]**(1/year)-1\n",
    "annualized_return"
   ]
  },
  {
   "cell_type": "code",
   "execution_count": null,
   "metadata": {
    "ExecuteTime": {
     "end_time": "2024-01-11T22:39:01.496523Z",
     "start_time": "2024-01-11T22:38:56.023273Z"
    }
   },
   "outputs": [],
   "source": [
    "## Sharp Ratio\n",
    "import akshare as ak\n",
    "bond_zh_us_rate_df = ak.bond_zh_us_rate(start_date=\"19901219\")\n",
    "\n",
    "risk_free_rate = bond_zh_us_rate_df.loc[(pd.to_datetime(bond_zh_us_rate_df[\"日期\"])>pd.to_datetime(\"20200101\"))&(pd.to_datetime(bond_zh_us_rate_df[\"日期\"])<(\"20221101\")),\"中国国债收益率2年\"].mean()/100\n",
    "standard_deviation_of_investment = analysis_report[\"return_rate\"].std()* np.sqrt(252)\n",
    "standard_deviation_of_investment\n",
    "sharpe_ratio = (annualized_return - risk_free_rate) / standard_deviation_of_investment\n",
    "sharpe_ratio"
   ]
  },
  {
   "cell_type": "code",
   "execution_count": null,
   "metadata": {
    "ExecuteTime": {
     "end_time": "2024-01-11T22:39:01.523931Z",
     "start_time": "2024-01-11T22:39:01.523924Z"
    }
   },
   "outputs": [],
   "source": [
    "analysis_report"
   ]
  },
  {
   "cell_type": "code",
   "execution_count": null,
   "metadata": {
    "ExecuteTime": {
     "end_time": "2024-01-11T22:39:01.526114Z",
     "start_time": "2024-01-11T22:39:01.526108Z"
    }
   },
   "outputs": [],
   "source": [
    "analysis_report"
   ]
  },
  {
   "cell_type": "code",
   "execution_count": null,
   "metadata": {
    "ExecuteTime": {
     "end_time": "2024-01-11T22:39:01.528361Z",
     "start_time": "2024-01-11T22:39:01.528356Z"
    }
   },
   "outputs": [],
   "source": [
    "# ## Imformation Ratio\n",
    "# ir = (analysis_report[\"return_rate\"] - analysis_report[\"sz_return\"]).mean()/analysis_report[\"return_rate\"].std()\n",
    "# ir"
   ]
  },
  {
   "cell_type": "code",
   "execution_count": null,
   "metadata": {},
   "outputs": [],
   "source": []
  },
  {
   "cell_type": "code",
   "execution_count": null,
   "metadata": {
    "ExecuteTime": {
     "end_time": "2024-01-11T22:39:01.762641Z",
     "start_time": "2024-01-11T22:39:01.754336Z"
    }
   },
   "outputs": [],
   "source": [
    "len(df_history.index)"
   ]
  },
  {
   "cell_type": "code",
   "execution_count": null,
   "metadata": {
    "ExecuteTime": {
     "end_time": "2024-01-11T22:39:02.112035Z",
     "start_time": "2024-01-11T22:39:01.998962Z"
    }
   },
   "outputs": [],
   "source": [
    "\n",
    "\n",
    "import matplotlib.pyplot as plt\n",
    "plt.plot(df_history.index,history[1:],label=\"Ours\")\n",
    "plt.plot(df_history.index,bench_hist[1:],label=\"Bench\")\n",
    "plt.plot(df_history.index,analysis_report.sz_return.values,label=\"Shanghai SE Composite Index\")\n",
    "plt.legend()"
   ]
  },
  {
   "cell_type": "code",
   "execution_count": null,
   "metadata": {
    "ExecuteTime": {
     "end_time": "2024-01-11T22:36:56.381376Z",
     "start_time": "2024-01-11T22:36:56.373862Z"
    }
   },
   "outputs": [],
   "source": [
    "df.loc[df.index.get_level_values(\"instrument\").isin(potofolio)]\n",
    "# for date, df in ((total[\"prediction\"] - total[\"close\"])/total[\"close\"]).groupby(\"datetime\"):\n",
    "#     print(date)\n",
    "#     print(df.sort_values(ascending=False).head(10))\n",
    "\n",
    "\n",
    "# codes = output.index.codes\n",
    "# new_levels = [pd.to_datetime(output.index.levels[0].astype(str),),output.index.levels[1]]\n",
    "# new_index = pd.MultiIndex(levels=new_levels, codes=codes, names=output.index.names)\n",
    "# output.index = new_index\n",
    "\n",
    "\n",
    "# p = single_pred(factorVAE, test_dataloader, test_ds.df, args)\n",
    "from pprint import pprint\n",
    "# import qlib.contrib.report as qcr\n",
    "# import qlib\n",
    "# import pandas as pd\n",
    "from qlib.utils.time import Freq\n",
    "# from qlib.utils import flatten_dict\n",
    "# from qlib.backtest import backtest, executor\n",
    "# from qlib.contrib.evaluate import backtest_daily\n",
    "from qlib.contrib.evaluate import risk_analysis\n",
    "# from qlib.contrib.strategy import TopkDropoutStrategy\n",
    "\n",
    "# qlib.init()\n",
    "\n",
    "# CSI300_BENCH = \"SH000300\"\n",
    "FREQ = \"day\"\n",
    "# STRATEGY_CONFIG = {\n",
    "#     \"topk\": 50,\n",
    "#     \"n_drop\": 5,\n",
    "#     # pred_score, pd.Series\n",
    "#     \"signal\": output,\n",
    "# }\n",
    "\n",
    "# EXECUTOR_CONFIG = {\n",
    "#     \"time_per_step\": \"day\",\n",
    "#     \"generate_portfolio_metrics\": True,\n",
    "# }\n",
    "\n",
    "# backtest_config = {\n",
    "#     \"start_time\": \"2020-02-06\",\n",
    "#     \"end_time\": \"2022-11-01\",\n",
    "#     \"account\": 100000000,\n",
    "#     # \"benchmark\": CSI300_BENCH,\n",
    "#     \"exchange_kwargs\": {\n",
    "#         \"freq\": FREQ,\n",
    "#         \"limit_threshold\": 0.095,\n",
    "#         \"deal_price\": \"close\",\n",
    "#         \"open_cost\": 0.0005,\n",
    "#         \"close_cost\": 0.0015,\n",
    "#         \"min_cost\": 5,\n",
    "#     },\n",
    "# }\n",
    "# # strategy object\n",
    "# strategy_obj = TopkDropoutStrategy(**STRATEGY_CONFIG)\n",
    "# # executor object\n",
    "# executor_obj = executor.SimulatorExecutor(**EXECUTOR_CONFIG)\n",
    "\n",
    "# # backtest\n",
    "# portfolio_metric_dict, indicator_dict = backtest(executor=executor_obj, strategy=strategy_obj, **backtest_config)\n",
    "# analysis_freq = \"{0}{1}\".format(*Freq.parse(FREQ))\n",
    "\n",
    "# # backtest info\n",
    "# report_normal_df, positions_normal = portfolio_metric_dict.get(analysis_freq)\n",
    "analysis_freq = \"{0}{1}\".format(*Freq.parse(FREQ))\n",
    "analysis_report.index\n",
    "\n",
    "analysis_report[\"turnover\"] = 1\n",
    "analysis_report"
   ]
  },
  {
   "cell_type": "code",
   "execution_count": null,
   "metadata": {
    "ExecuteTime": {
     "end_time": "2024-01-11T22:36:56.387649Z",
     "start_time": "2024-01-11T22:36:56.381961Z"
    }
   },
   "outputs": [],
   "source": [
    "# analysis_report.drop([\"bench_rate\",\"sz_rate\",\"sz_return\"],axis=1,inplace =True)"
   ]
  },
  {
   "cell_type": "code",
   "execution_count": null,
   "metadata": {
    "ExecuteTime": {
     "end_time": "2024-01-11T22:36:56.703100Z",
     "start_time": "2024-01-11T22:36:56.390688Z"
    }
   },
   "outputs": [],
   "source": [
    "analysis_report.index.strftime(\"%Y-%m-%d\")\n",
    "import qlib.contrib.report as qcr\n",
    "from qlib.contrib.report import analysis_position, analysis_model\n",
    "print(qcr.GRAPH_NAME_LIST)\n",
    "analysis_position.report_graph(analysis_report)"
   ]
  },
  {
   "cell_type": "code",
   "execution_count": null,
   "metadata": {
    "ExecuteTime": {
     "end_time": "2024-01-11T22:36:56.799461Z",
     "start_time": "2024-01-11T22:36:56.703863Z"
    }
   },
   "outputs": [],
   "source": [
    "\n",
    "analysis = dict()\n",
    "analysis[\"excess_return_without_cost\"] = risk_analysis(\n",
    "    analysis_report[\"return\"] - analysis_report[\"bench\"], freq=analysis_freq\n",
    ")\n",
    "analysis[\"excess_return_with_cost\"] = risk_analysis(\n",
    "    analysis_report[\"return\"] - analysis_report[\"bench\"] - analysis_report[\"cost\"], freq=analysis_freq\n",
    ")\n",
    "\n",
    "analysis_df = pd.concat(analysis)  # type: pd.DataFrame\n",
    "analysis_position.risk_analysis_graph(analysis_df, analysis_report)"
   ]
  },
  {
   "cell_type": "code",
   "execution_count": null,
   "metadata": {
    "ExecuteTime": {
     "end_time": "2024-01-11T22:36:56.805080Z",
     "start_time": "2024-01-11T22:36:56.800213Z"
    }
   },
   "outputs": [],
   "source": [
    "analysis = dict()\n",
    "analysis[\"excess_return_without_cost\"] = risk_analysis(\n",
    "    analysis_report[\"return\"] - analysis_report[\"bench\"], freq=analysis_freq\n",
    ")\n",
    "analysis[\"excess_return_with_cost\"] = risk_analysis(\n",
    "    analysis_report[\"return\"] - analysis_report[\"bench\"] - analysis_report[\"cost\"], freq=analysis_freq\n",
    ")\n",
    "\n",
    "analysis_df = pd.concat(analysis)\n",
    "pprint(analysis_df)\n",
    "potofolio"
   ]
  },
  {
   "cell_type": "code",
   "execution_count": null,
   "metadata": {},
   "outputs": [],
   "source": []
  },
  {
   "cell_type": "code",
   "execution_count": null,
   "metadata": {},
   "outputs": [],
   "source": []
  },
  {
   "cell_type": "code",
   "execution_count": null,
   "metadata": {},
   "outputs": [],
   "source": []
  },
  {
   "cell_type": "code",
   "execution_count": null,
   "metadata": {},
   "outputs": [],
   "source": []
  }
 ],
 "metadata": {
  "kernelspec": {
   "display_name": "factorvae",
   "language": "python",
   "name": "factorvae"
  },
  "language_info": {
   "codemirror_mode": {
    "name": "ipython",
    "version": 3
   },
   "file_extension": ".py",
   "mimetype": "text/x-python",
   "name": "python",
   "nbconvert_exporter": "python",
   "pygments_lexer": "ipython3",
   "version": "3.9.18"
  },
  "latex_envs": {
   "LaTeX_envs_menu_present": true,
   "autoclose": true,
   "autocomplete": true,
   "bibliofile": "biblio.bib",
   "cite_by": "apalike",
   "current_citInitial": 1,
   "eqLabelWithNumbers": true,
   "eqNumInitial": 1,
   "hotkeys": {
    "equation": "Ctrl-E",
    "itemize": "Ctrl-I"
   },
   "labels_anchors": false,
   "latex_user_defs": false,
   "report_style_numbering": false,
   "user_envs_cfg": false
  },
  "toc": {
   "base_numbering": 1,
   "nav_menu": {},
   "number_sections": true,
   "sideBar": true,
   "skip_h1_title": false,
   "title_cell": "Table of Contents",
   "title_sidebar": "Contents",
   "toc_cell": false,
   "toc_position": {},
   "toc_section_display": true,
   "toc_window_display": false
  },
  "varInspector": {
   "cols": {
    "lenName": 16,
    "lenType": 16,
    "lenVar": 40
   },
   "kernels_config": {
    "python": {
     "delete_cmd_postfix": "",
     "delete_cmd_prefix": "del ",
     "library": "var_list.py",
     "varRefreshCmd": "print(var_dic_list())"
    },
    "r": {
     "delete_cmd_postfix": ") ",
     "delete_cmd_prefix": "rm(",
     "library": "var_list.r",
     "varRefreshCmd": "cat(var_dic_list()) "
    }
   },
   "types_to_exclude": [
    "module",
    "function",
    "builtin_function_or_method",
    "instance",
    "_Feature"
   ],
   "window_display": false
  }
 },
 "nbformat": 4,
 "nbformat_minor": 2
}
