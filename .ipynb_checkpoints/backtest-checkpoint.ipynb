{
 "cells": [
  {
   "cell_type": "code",
   "execution_count": 1,
   "metadata": {},
   "outputs": [
    {
     "name": "stdout",
     "output_type": "stream",
     "text": [
      "tensor(3.9595, grad_fn=<AddBackward0>) tensor([ 0.0440,  0.3563,  0.6440, -0.2610,  0.2742,  0.1423, -0.0818, -0.0769],\n",
      "       grad_fn=<AddBackward0>) tensor([0.7154, 0.8871, 1.0661, 0.5711, 0.8396, 0.7668, 0.6531, 0.6555],\n",
      "       grad_fn=<CopySlices>) tensor([-0.0265, -0.0722, -0.0328, -0.0327, -0.0747, -0.0333,  0.0195, -0.0286],\n",
      "       grad_fn=<ViewBackward0>) tensor([0.6086, 0.6093, 0.6035, 0.6363, 0.6109, 0.5941, 0.6355, 0.6147],\n",
      "       grad_fn=<ViewBackward0>)\n"
     ]
    }
   ],
   "source": [
    "import torch\n",
    "import torch.nn as nn\n",
    "import torch.nn.functional as F\n",
    "import torch.optim as optim\n",
    "from torch.utils.data import DataLoader, Dataset, TensorDataset\n",
    "import pandas as pd\n",
    "import numpy as np\n",
    "import matplotlib.pyplot as plt\n",
    "import seaborn as sns\n",
    "import os\n",
    "import sys\n",
    "import time\n",
    "import datetime\n",
    "import random\n",
    "from tqdm.auto import tqdm\n",
    "# !pip install pyqlib\n",
    "from Layers import FeatureExtractor, FactorEncoder, AlphaLayer, BetaLayer, FactorDecoder, FactorVAE, FatorPrior\n",
    "from dataset import StockDataset\n",
    "from tqdm.auto import tqdm\n",
    "from dataclasses import dataclass\n",
    "from utils import test_args, load_model, generate_prediction_scores"
   ]
  },
  {
   "cell_type": "code",
   "execution_count": 2,
   "metadata": {},
   "outputs": [
    {
     "data": {
      "text/plain": [
       "<All keys matched successfully>"
      ]
     },
     "execution_count": 2,
     "metadata": {},
     "output_type": "execute_result"
    }
   ],
   "source": [
    "args = test_args(run_name='None',\n",
    "                num_factor=8, \n",
    "                normalize=True, \n",
    "                select_feature=True,\n",
    "                num_latent=20,\n",
    "                hidden_size=20,\n",
    "                use_qlib=False)\n",
    "factorVAE = load_model(args)\n",
    "model_name = './best_models/None_8_norm_True_char_True.pt'\n",
    "factorVAE.load_state_dict(torch.load(model_name))"
   ]
  },
  {
   "cell_type": "code",
   "execution_count": 3,
   "metadata": {},
   "outputs": [
    {
     "name": "stdout",
     "output_type": "stream",
     "text": [
      "normalized\n",
      "Success!\n"
     ]
    }
   ],
   "source": [
    "if args.normalize:\n",
    "    print(\"normalized\")\n",
    "    test_df = pd.read_pickle(f\"data/test_all_QLIB_{args.use_qlib}_NORM_{args.normalize}_CHAR_{args.select_feature}_LEN_{args.seq_length}.pkl\")\n",
    "    test_ds = StockDataset(test_df, args.batch_size, args.seq_length)\n",
    "    test_dataloader = DataLoader(test_ds, batch_size=300, shuffle=False) \n",
    "    print(\"Success!\")\n",
    "else:\n",
    "    test_df = pd.read_pickle('./data/test_all.pkl')\n",
    "    test_ds = StockDataset(test_df, args.batch_size, args.seq_length)\n",
    "    test_dataloader = DataLoader(test_ds, batch_size=300, shuffle=False)"
   ]
  },
  {
   "cell_type": "code",
   "execution_count": 4,
   "metadata": {},
   "outputs": [
    {
     "name": "stdout",
     "output_type": "stream",
     "text": [
      "cpu\n"
     ]
    },
    {
     "data": {
      "application/vnd.jupyter.widget-view+json": {
       "model_id": "03c016c3cef14b94a036f7302eaf8bb8",
       "version_major": 2,
       "version_minor": 0
      },
      "text/plain": [
       "  0%|          | 0/420 [00:00<?, ?it/s]"
      ]
     },
     "metadata": {},
     "output_type": "display_data"
    }
   ],
   "source": [
    "#output, err = generate_prediction_scores(factorVAE, test_dataloader, test_ds.df, args)\n",
    "#output.to_csv(f\"./scores/{args.run_name}_{args.num_factor}_{args.normalize}_{args.select_feature}_{args.num_latent}_{args.hidden_size}.csv\")"
   ]
  },
  {
   "cell_type": "code",
   "execution_count": 5,
   "metadata": {},
   "outputs": [
    {
     "data": {
      "text/html": [
       "<div>\n",
       "<style scoped>\n",
       "    .dataframe tbody tr th:only-of-type {\n",
       "        vertical-align: middle;\n",
       "    }\n",
       "\n",
       "    .dataframe tbody tr th {\n",
       "        vertical-align: top;\n",
       "    }\n",
       "\n",
       "    .dataframe thead th {\n",
       "        text-align: right;\n",
       "    }\n",
       "</style>\n",
       "<table border=\"1\" class=\"dataframe\">\n",
       "  <thead>\n",
       "    <tr style=\"text-align: right;\">\n",
       "      <th></th>\n",
       "      <th></th>\n",
       "      <th>score</th>\n",
       "    </tr>\n",
       "    <tr>\n",
       "      <th>datetime</th>\n",
       "      <th>instrument</th>\n",
       "      <th></th>\n",
       "    </tr>\n",
       "  </thead>\n",
       "  <tbody>\n",
       "    <tr>\n",
       "      <th rowspan=\"4\" valign=\"top\">2018-12-28</th>\n",
       "      <th>SZ300251</th>\n",
       "      <td>0.816060</td>\n",
       "    </tr>\n",
       "    <tr>\n",
       "      <th>SZ300433</th>\n",
       "      <td>0.997285</td>\n",
       "    </tr>\n",
       "    <tr>\n",
       "      <th>SZ300296</th>\n",
       "      <td>0.772143</td>\n",
       "    </tr>\n",
       "    <tr>\n",
       "      <th>SZ300408</th>\n",
       "      <td>1.008868</td>\n",
       "    </tr>\n",
       "    <tr>\n",
       "      <th>2019-01-02</th>\n",
       "      <th>SZ300251</th>\n",
       "      <td>0.863860</td>\n",
       "    </tr>\n",
       "    <tr>\n",
       "      <th>...</th>\n",
       "      <th>...</th>\n",
       "      <td>...</td>\n",
       "    </tr>\n",
       "    <tr>\n",
       "      <th rowspan=\"5\" valign=\"top\">2020-09-23</th>\n",
       "      <th>SZ300347</th>\n",
       "      <td>1.291032</td>\n",
       "    </tr>\n",
       "    <tr>\n",
       "      <th>SZ300628</th>\n",
       "      <td>1.260626</td>\n",
       "    </tr>\n",
       "    <tr>\n",
       "      <th>SZ300433</th>\n",
       "      <td>0.980933</td>\n",
       "    </tr>\n",
       "    <tr>\n",
       "      <th>SZ300498</th>\n",
       "      <td>1.241587</td>\n",
       "    </tr>\n",
       "    <tr>\n",
       "      <th>SZ300601</th>\n",
       "      <td>1.321098</td>\n",
       "    </tr>\n",
       "  </tbody>\n",
       "</table>\n",
       "<p>2260 rows × 1 columns</p>\n",
       "</div>"
      ],
      "text/plain": [
       "                          score\n",
       "datetime   instrument          \n",
       "2018-12-28 SZ300251    0.816060\n",
       "           SZ300433    0.997285\n",
       "           SZ300296    0.772143\n",
       "           SZ300408    1.008868\n",
       "2019-01-02 SZ300251    0.863860\n",
       "...                         ...\n",
       "2020-09-23 SZ300347    1.291032\n",
       "           SZ300628    1.260626\n",
       "           SZ300433    0.980933\n",
       "           SZ300498    1.241587\n",
       "           SZ300601    1.321098\n",
       "\n",
       "[2260 rows x 1 columns]"
      ]
     },
     "execution_count": 5,
     "metadata": {},
     "output_type": "execute_result"
    }
   ],
   "source": [
    "output"
   ]
  },
  {
   "cell_type": "code",
   "execution_count": 17,
   "metadata": {},
   "outputs": [
    {
     "name": "stderr",
     "output_type": "stream",
     "text": [
      "[32800:MainThread](2023-09-14 21:39:35,717) INFO - qlib.Initialization - [config.py:386] - default_conf: client.\n",
      "[32800:MainThread](2023-09-14 21:39:37,751) WARNING - qlib.Initialization - [config.py:411] - redis connection failed(host=127.0.0.1 port=6379), DiskExpressionCache and DiskDatasetCache will not be used!\n",
      "[32800:MainThread](2023-09-14 21:39:37,759) INFO - qlib.Initialization - [__init__.py:56] - qlib successfully initialized based on client settings.\n",
      "[32800:MainThread](2023-09-14 21:39:37,759) INFO - qlib.Initialization - [__init__.py:58] - data_path={'__DEFAULT_FREQ': WindowsPath('C:/Users/thoma/.qlib/qlib_data/cn_data')}\n"
     ]
    },
    {
     "ename": "TypeError",
     "evalue": "__init__() missing 2 required positional arguments: 'model' and 'dataset'",
     "output_type": "error",
     "traceback": [
      "\u001b[1;31m---------------------------------------------------------------------------\u001b[0m",
      "\u001b[1;31mTypeError\u001b[0m                                 Traceback (most recent call last)",
      "Input \u001b[1;32mIn [17]\u001b[0m, in \u001b[0;36m<cell line: 45>\u001b[1;34m()\u001b[0m\n\u001b[0;32m     30\u001b[0m backtest_config \u001b[38;5;241m=\u001b[39m {\n\u001b[0;32m     31\u001b[0m     \u001b[38;5;124m\"\u001b[39m\u001b[38;5;124mstart_time\u001b[39m\u001b[38;5;124m\"\u001b[39m: \u001b[38;5;124m\"\u001b[39m\u001b[38;5;124m2019-01-02\u001b[39m\u001b[38;5;124m\"\u001b[39m,\n\u001b[0;32m     32\u001b[0m     \u001b[38;5;124m\"\u001b[39m\u001b[38;5;124mend_time\u001b[39m\u001b[38;5;124m\"\u001b[39m: \u001b[38;5;124m\"\u001b[39m\u001b[38;5;124m2020-09-23\u001b[39m\u001b[38;5;124m\"\u001b[39m,\n\u001b[1;32m   (...)\u001b[0m\n\u001b[0;32m     42\u001b[0m     },\n\u001b[0;32m     43\u001b[0m }\n\u001b[0;32m     44\u001b[0m \u001b[38;5;66;03m# strategy object\u001b[39;00m\n\u001b[1;32m---> 45\u001b[0m strategy_obj \u001b[38;5;241m=\u001b[39m qcs\u001b[38;5;241m.\u001b[39mTopkDropoutStrategy(\u001b[38;5;241m*\u001b[39m\u001b[38;5;241m*\u001b[39mSTRATEGY_CONFIG)\n\u001b[0;32m     46\u001b[0m \u001b[38;5;66;03m# executor object\u001b[39;00m\n\u001b[0;32m     47\u001b[0m executor_obj \u001b[38;5;241m=\u001b[39m executor\u001b[38;5;241m.\u001b[39mSimulatorExecutor(\u001b[38;5;241m*\u001b[39m\u001b[38;5;241m*\u001b[39mEXECUTOR_CONFIG)\n",
      "\u001b[1;31mTypeError\u001b[0m: __init__() missing 2 required positional arguments: 'model' and 'dataset'"
     ]
    }
   ],
   "source": [
    "from pprint import pprint\n",
    "import qlib.contrib.report as qcr\n",
    "import qlib\n",
    "import pandas as pd\n",
    "from qlib.utils.time import Freq\n",
    "from qlib.utils import flatten_dict\n",
    "from qlib.backtest import backtest, executor\n",
    "from qlib.contrib.evaluate import backtest_daily\n",
    "from qlib.contrib.evaluate import risk_analysis\n",
    "from qlib.contrib.strategy import TopkDropoutStrategy\n",
    "\n",
    "# init qlib\n",
    "qlib.init(provider_uri='~/.qlib/qlib_data/cn_data')\n",
    "\n",
    "all_BENCH = \"SH000300\"\n",
    "FREQ = \"day\"\n",
    "STRATEGY_CONFIG = {\n",
    "    \"topk\": 50,\n",
    "    \"n_drop\": 5,\n",
    "    # pred_score, pd.Series\n",
    "    \"signal\": output,\n",
    "}\n",
    "\n",
    "EXECUTOR_CONFIG = {\n",
    "    \"time_per_step\": \"day\",\n",
    "    \"generate_portfolio_metrics\": True,\n",
    "}\n",
    "\n",
    "backtest_config = {\n",
    "    \"start_time\": \"2019-01-02\",\n",
    "    \"end_time\": \"2020-09-23\",\n",
    "    \"account\": 100000000,\n",
    "    \"benchmark\": all_BENCH,\n",
    "    \"exchange_kwargs\": {\n",
    "        \"freq\": FREQ,\n",
    "        \"limit_threshold\": 0.095,\n",
    "        \"deal_price\": \"close\",\n",
    "        \"open_cost\": 0.0005,\n",
    "        \"close_cost\": 0.0015,\n",
    "        \"min_cost\": 5,\n",
    "    },\n",
    "}\n",
    "# strategy object\n",
    "strategy_obj = TopkDropoutStrategy(**STRATEGY_CONFIG)\n",
    "# executor object\n",
    "executor_obj = executor.SimulatorExecutor(**EXECUTOR_CONFIG)\n",
    "\n",
    "# backtest\n",
    "portfolio_metric_dict, indicator_dict = backtest(executor=executor_obj, strategy=strategy_obj, **backtest_config)\n",
    "analysis_freq = \"{0}{1}\".format(*Freq.parse(FREQ))\n",
    "\n",
    "# backtest info\n",
    "report_normal_df, positions_normal = portfolio_metric_dict.get(analysis_freq)"
   ]
  },
  {
   "cell_type": "code",
   "execution_count": null,
   "metadata": {},
   "outputs": [],
   "source": [
    "import qlib.contrib.report as qcr\n",
    "from qlib.contrib.report import analysis_position, analysis_model\n",
    "print(qcr.GRAPH_NAME_LIST)\n",
    "analysis_position.report_graph(report_normal_df)"
   ]
  },
  {
   "cell_type": "code",
   "execution_count": null,
   "metadata": {},
   "outputs": [],
   "source": [
    "analysis = dict()\n",
    "analysis[\"excess_return_without_cost\"] = risk_analysis(\n",
    "    report_normal_df[\"return\"] - report_normal_df[\"bench\"], freq=analysis_freq\n",
    ")\n",
    "analysis[\"excess_return_with_cost\"] = risk_analysis(\n",
    "    report_normal_df[\"return\"] - report_normal_df[\"bench\"] - report_normal_df[\"cost\"], freq=analysis_freq\n",
    ")\n",
    "\n",
    "analysis_df = pd.concat(analysis)\n",
    "pprint(analysis_df)"
   ]
  }
 ],
 "metadata": {
  "kernelspec": {
   "display_name": "Python 3 (ipykernel)",
   "language": "python",
   "name": "python3"
  },
  "language_info": {
   "codemirror_mode": {
    "name": "ipython",
    "version": 3
   },
   "file_extension": ".py",
   "mimetype": "text/x-python",
   "name": "python",
   "nbconvert_exporter": "python",
   "pygments_lexer": "ipython3",
   "version": "3.9.12"
  }
 },
 "nbformat": 4,
 "nbformat_minor": 2
}
